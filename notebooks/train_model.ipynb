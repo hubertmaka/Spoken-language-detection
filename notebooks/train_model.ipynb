{
 "cells": [
  {
   "metadata": {},
   "cell_type": "markdown",
   "source": "## 1. Import libraries and dependencies",
   "id": "fe17e89353b6ef08"
  },
  {
   "metadata": {
    "ExecuteTime": {
     "end_time": "2024-05-26T09:12:28.058136Z",
     "start_time": "2024-05-26T09:12:26.210584Z"
    }
   },
   "cell_type": "code",
   "source": [
    "from src.preprocess.preprocess import Preprocess\n",
    "import tensorflow as tf\n",
    "from tensorflow import keras\n",
    "from tensorflow.keras import layers\n",
    "import matplotlib.pyplot as plt\n",
    "import time\n",
    "from src.preprocess.pipeline import Pipeline"
   ],
   "id": "a6bf080f1b761de7",
   "outputs": [
    {
     "name": "stdout",
     "output_type": "stream",
     "text": [
      "/home/hubert/Workspace/Python/UM-Project/languages\n",
      "{'de': '/home/hubert/Workspace/Python/UM-Project/languages/de', 'en': '/home/hubert/Workspace/Python/UM-Project/languages/en', 'fr': '/home/hubert/Workspace/Python/UM-Project/languages/fr'}\n",
      "{'de': '/home/hubert/Workspace/Python/UM-Project/languages/de/validated.tsv', 'en': '/home/hubert/Workspace/Python/UM-Project/languages/en/validated.tsv', 'fr': '/home/hubert/Workspace/Python/UM-Project/languages/fr/validated.tsv'}\n",
      "{'de': '/home/hubert/Workspace/Python/UM-Project/languages/de/clip_durations.tsv', 'en': '/home/hubert/Workspace/Python/UM-Project/languages/en/clip_durations.tsv', 'fr': '/home/hubert/Workspace/Python/UM-Project/languages/fr/clip_durations.tsv'}\n"
     ]
    },
    {
     "name": "stderr",
     "output_type": "stream",
     "text": [
      "2024-05-26 11:12:26.642985: I tensorflow/core/platform/cpu_feature_guard.cc:210] This TensorFlow binary is optimized to use available CPU instructions in performance-critical operations.\n",
      "To enable the following instructions: AVX2 FMA, in other operations, rebuild TensorFlow with the appropriate compiler flags.\n",
      "2024-05-26 11:12:27.234290: W tensorflow/compiler/tf2tensorrt/utils/py_utils.cc:38] TF-TRT Warning: Could not find TensorRT\n"
     ]
    }
   ],
   "execution_count": 1
  },
  {
   "metadata": {},
   "cell_type": "markdown",
   "source": "## 2. Preprocess audio",
   "id": "8c503ca62d34114e"
  },
  {
   "metadata": {
    "ExecuteTime": {
     "end_time": "2024-05-26T09:12:28.136457Z",
     "start_time": "2024-05-26T09:12:28.133978Z"
    }
   },
   "cell_type": "code",
   "source": [
    "ORIGIN_SAMPLE_RATE = 48_000\n",
    "FINAL_SAMPLE_RATE = 16_000\n",
    "MAX_CLIENT_ID_AMOUNT = 2500\n",
    "MIN_CLIP_DURATION_MS = 4000\n",
    "SET_SIZE = 90_000\n",
    "BATCH_SIZE = 64"
   ],
   "id": "bcc6785fc37b96a1",
   "outputs": [],
   "execution_count": 2
  },
  {
   "metadata": {
    "ExecuteTime": {
     "end_time": "2024-05-26T09:12:28.829537Z",
     "start_time": "2024-05-26T09:12:28.823771Z"
    }
   },
   "cell_type": "code",
   "source": "",
   "id": "7722c767a96561c9",
   "outputs": [],
   "execution_count": 2
  },
  {
   "metadata": {
    "ExecuteTime": {
     "end_time": "2024-05-26T09:12:29.343062Z",
     "start_time": "2024-05-26T09:12:29.340481Z"
    }
   },
   "cell_type": "code",
   "source": [
    "Preprocess.initialize(\n",
    "    batch_size=BATCH_SIZE,\n",
    "    max_client_id_amount=MAX_CLIENT_ID_AMOUNT,\n",
    "    min_clip_duration_ms=MIN_CLIP_DURATION_MS,\n",
    "    set_size=SET_SIZE,\n",
    "    origin_sample_rate=ORIGIN_SAMPLE_RATE,\n",
    "    final_sample_rate=FINAL_SAMPLE_RATE,\n",
    ")"
   ],
   "id": "6dfb1d479b618221",
   "outputs": [],
   "execution_count": 3
  },
  {
   "metadata": {
    "ExecuteTime": {
     "end_time": "2024-05-26T09:12:30.047357Z",
     "start_time": "2024-05-26T09:12:30.041339Z"
    }
   },
   "cell_type": "code",
   "source": [
    "print(f\"Original sample rate: {Preprocess.ORIGIN_SAMPLE_RATE}\")\n",
    "print(f\"Final sample rate: {Preprocess.SAMPLE_RATE}\")\n",
    "print(f\"Max client id amount: {Preprocess.MAX_CLIENT_ID_AMOUNT}\")\n",
    "print(f\"Min clip duration in milliseconds: {Preprocess.MIN_CLIP_DURATION_MS}\")\n",
    "print(f\"Set size: {Preprocess.SET_SIZE}\")\n",
    "print(f\"One language set size: {Preprocess.ONE_LANG_SET_SIZE}\")\n",
    "\n",
    "print(\"-\"*25 + \"SETS SIZES\" + \"-\"*25)\n",
    "print(f\"Training set size: {Preprocess.SET_HPARAMS.train_size}\")\n",
    "print(f\"Val set size: {Preprocess.SET_HPARAMS.val_size}\")\n",
    "print(f\"Test set size: {Preprocess.SET_HPARAMS.test_size}\")\n",
    "print(f\"Is test + val + train is equal one lang set size: \"\n",
    "      f\"\\n{Preprocess.SET_HPARAMS.test_size + Preprocess.SET_HPARAMS.val_size + Preprocess.SET_HPARAMS.train_size} <= {Preprocess.ONE_LANG_SET_SIZE}\")"
   ],
   "id": "8a1acd322f68bbc9",
   "outputs": [
    {
     "name": "stdout",
     "output_type": "stream",
     "text": [
      "Original sample rate: 48000\n",
      "Final sample rate: 16000\n",
      "Max client id amount: 2500\n",
      "Min clip duration in milliseconds: 4000\n",
      "Set size: 90000\n",
      "One language set size: 30000\n",
      "-------------------------SETS SIZES-------------------------\n",
      "Training set size: 18000\n",
      "Val set size: 6000\n",
      "Test set size: 6000\n",
      "Is test + val + train is equal one lang set size: \n",
      "30000 <= 30000\n"
     ]
    }
   ],
   "execution_count": 4
  },
  {
   "metadata": {
    "ExecuteTime": {
     "end_time": "2024-05-26T09:12:30.661750Z",
     "start_time": "2024-05-26T09:12:30.659757Z"
    }
   },
   "cell_type": "code",
   "source": [
    "# start = time.time()\n",
    "# Preprocess.preprocess_probes()\n",
    "# end = time.time()\n",
    "# print(f'Time taken: {end - start}')"
   ],
   "id": "600796771640c9f5",
   "outputs": [],
   "execution_count": 5
  },
  {
   "metadata": {
    "ExecuteTime": {
     "end_time": "2024-05-26T09:12:31.396845Z",
     "start_time": "2024-05-26T09:12:31.393180Z"
    }
   },
   "cell_type": "code",
   "source": [
    "from src.hyperparams.set_hparams import SetHyperparameters\n",
    "SET_SIZE = 18_000\n",
    "set_hparams = SetHyperparameters(set_size=SET_SIZE)\n",
    "print(set_hparams.train_size)\n",
    "print(set_hparams.val_size)\n",
    "print(set_hparams.test_size)"
   ],
   "id": "944cf486dae55c82",
   "outputs": [
    {
     "name": "stdout",
     "output_type": "stream",
     "text": [
      "10800\n",
      "3600\n",
      "3600\n"
     ]
    }
   ],
   "execution_count": 6
  },
  {
   "metadata": {
    "ExecuteTime": {
     "end_time": "2024-05-26T09:12:32.258621Z",
     "start_time": "2024-05-26T09:12:32.210503Z"
    }
   },
   "cell_type": "code",
   "source": [
    "import random\n",
    "train = Preprocess.load_set(\"val\")\n",
    "val = Preprocess.load_set(\"val\")\n",
    "test = Preprocess.load_set(\"test\")\n",
    "random.shuffle(train)\n",
    "random.shuffle(val)\n",
    "random.shuffle(test)\n",
    "train = train[:set_hparams.train_size]\n",
    "val = val[:set_hparams.val_size]\n",
    "test = test[:set_hparams.test_size]"
   ],
   "id": "f2d50dd100be4ced",
   "outputs": [],
   "execution_count": 7
  },
  {
   "metadata": {
    "ExecuteTime": {
     "end_time": "2024-05-26T09:12:32.863292Z",
     "start_time": "2024-05-26T09:12:32.847939Z"
    }
   },
   "cell_type": "code",
   "source": "len(train), len(val), len(test)",
   "id": "654acb4abe6afd67",
   "outputs": [
    {
     "data": {
      "text/plain": [
       "(10800, 3600, 3600)"
      ]
     },
     "execution_count": 8,
     "metadata": {},
     "output_type": "execute_result"
    }
   ],
   "execution_count": 8
  },
  {
   "metadata": {
    "ExecuteTime": {
     "end_time": "2024-05-26T09:12:36.036108Z",
     "start_time": "2024-05-26T09:12:33.359278Z"
    }
   },
   "cell_type": "code",
   "source": [
    "train_dataset = Pipeline.create_pipeline(train, is_train=True)\n",
    "val_dataset = Pipeline.create_pipeline(val)\n",
    "test_dataset = Pipeline.create_pipeline(test)"
   ],
   "id": "76837a64d644a926",
   "outputs": [
    {
     "name": "stderr",
     "output_type": "stream",
     "text": [
      "2024-05-26 11:12:33.419861: I external/local_xla/xla/stream_executor/cuda/cuda_executor.cc:998] successful NUMA node read from SysFS had negative value (-1), but there must be at least one NUMA node, so returning NUMA node zero. See more at https://github.com/torvalds/linux/blob/v6.0/Documentation/ABI/testing/sysfs-bus-pci#L344-L355\n",
      "2024-05-26 11:12:33.457361: W tensorflow/core/common_runtime/gpu/gpu_device.cc:2251] Cannot dlopen some GPU libraries. Please make sure the missing libraries mentioned above are installed properly if you would like to use GPU. Follow the guide at https://www.tensorflow.org/install/gpu for how to download and setup the required libraries for your platform.\n",
      "Skipping registering GPU devices...\n",
      "2024-05-26 11:12:33.580699: I tensorflow_io/core/kernels/cpu_check.cc:128] Your CPU supports instructions that this TensorFlow IO binary was not compiled to use: SSE3 SSE4.1 SSE4.2 AVX AVX2 FMA\n"
     ]
    },
    {
     "name": "stdout",
     "output_type": "stream",
     "text": [
      "WARNING:tensorflow:Using a while_loop for converting IO>AudioResample cause there is no registered converter for this op.\n",
      "WARNING:tensorflow:Using a while_loop for converting IO>AudioResample cause there is no registered converter for this op.\n",
      "WARNING:tensorflow:Using a while_loop for converting IO>AudioResample cause there is no registered converter for this op.\n"
     ]
    }
   ],
   "execution_count": 9
  },
  {
   "metadata": {},
   "cell_type": "code",
   "source": [
    "len(train_dataset), len(val_dataset), len(test_dataset)\n",
    "\n",
    "# counter = 0\n",
    "# start = time.time()\n",
    "# for batch, label in train_dataset:\n",
    "#     print(batch.shape)\n",
    "# \n",
    "# end = time.time()\n",
    "# print(f\"Train it time: {end - start}\")\n",
    "# print(counter)\n"
   ],
   "id": "9ce89707caf7183f",
   "outputs": [],
   "execution_count": null
  },
  {
   "metadata": {},
   "cell_type": "code",
   "source": [
    "# counter = 0\n",
    "# start = time.time()\n",
    "# for batch, label in val_dataset:\n",
    "#     print(batch.shape)\n",
    "#     for sample in batch:\n",
    "#         print(sample)\n",
    "#         counter += 1\n",
    "# end = time.time()\n",
    "# print(f\"Val it time: {end - start}\")\n",
    "# print(counter)"
   ],
   "id": "c57622f982018832",
   "outputs": [],
   "execution_count": null
  },
  {
   "metadata": {},
   "cell_type": "code",
   "source": [
    "# counter = 0\n",
    "# start = time.time()\n",
    "# for batch, label in test_dataset:\n",
    "#     print(batch.shape)\n",
    "#     for sample in batch:\n",
    "#         print(sample)\n",
    "#         counter += 1\n",
    "# end = time.time()\n",
    "# print(f\"Test it time: {end - start}\")\n",
    "# print(counter)"
   ],
   "id": "722354f91273be74",
   "outputs": [],
   "execution_count": null
  },
  {
   "metadata": {},
   "cell_type": "code",
   "source": "test_dataset.element_spec",
   "id": "ba954c12ce6cdd72",
   "outputs": [],
   "execution_count": null
  },
  {
   "metadata": {},
   "cell_type": "code",
   "source": "val_dataset.element_spec",
   "id": "b8b5ff5286950b7b",
   "outputs": [],
   "execution_count": null
  },
  {
   "metadata": {},
   "cell_type": "code",
   "source": "train_dataset.element_spec",
   "id": "398c95333527cc46",
   "outputs": [],
   "execution_count": null
  },
  {
   "metadata": {},
   "cell_type": "markdown",
   "source": "## 4. Create model",
   "id": "ee913c5ee6ad12d6"
  },
  {
   "metadata": {},
   "cell_type": "code",
   "source": [
    "# input_shape = test_dataset.as_numpy_iterator().next()[0].shape[1:]\n",
    "# input_shape"
   ],
   "id": "5dfd1206f7373abf",
   "outputs": [],
   "execution_count": null
  },
  {
   "metadata": {},
   "cell_type": "code",
   "source": [
    "model = keras.Sequential([\n",
    "    layers.Input(shape=(497, 257, 1)),\n",
    "    layers.Conv2D(16, (7, 5), activation='relu', padding='same'),\n",
    "    layers.BatchNormalization(),\n",
    "    layers.MaxPooling2D((2, 1)),\n",
    "    layers.Conv2D(32, (5, 5), activation='relu', padding='same'),\n",
    "    layers.BatchNormalization(),\n",
    "    layers.MaxPooling2D((2, 2)),\n",
    "    layers.Conv2D(64, (3, 3), activation='relu', padding='same'),\n",
    "    layers.BatchNormalization(),\n",
    "    layers.MaxPooling2D((2, 2)),\n",
    "    layers.Conv2D(128, (3, 3), activation='relu', padding='same'),\n",
    "    layers.BatchNormalization(),\n",
    "    layers.MaxPooling2D((2, 2)),\n",
    "    layers.Flatten(),\n",
    "    layers.Dense(32, activation='relu'),\n",
    "    layers.Dense(32, activation='relu'),\n",
    "    layers.Dense(3, activation='softmax')\n",
    "])\n",
    "model.summary()"
   ],
   "id": "6a03617d372142d3",
   "outputs": [],
   "execution_count": null
  },
  {
   "metadata": {},
   "cell_type": "code",
   "source": "model.compile(optimizer='adam', loss='categorical_crossentropy', metrics=['accuracy'])",
   "id": "505a64a885744d73",
   "outputs": [],
   "execution_count": null
  },
  {
   "metadata": {},
   "cell_type": "code",
   "source": "history = model.fit(train_dataset, epochs=20, validation_data=val_dataset, batch_size=BATCH_SIZE)",
   "id": "69a8906aa7b7b2ae",
   "outputs": [],
   "execution_count": null
  },
  {
   "metadata": {},
   "cell_type": "code",
   "source": [
    "test_loss, test_acc = model.evaluate(test_dataset, verbose=2)\n",
    "print(f'\\nTest accuracy: {test_acc}')"
   ],
   "id": "5cad03e9342f7d90",
   "outputs": [],
   "execution_count": null
  },
  {
   "metadata": {},
   "cell_type": "code",
   "source": [
    "plt.plot(history.history['accuracy'], label='accuracy')\n",
    "plt.plot(history.history['val_accuracy'], label = 'val_accuracy')\n",
    "plt.xlabel('Epoch')\n",
    "plt.ylabel('Accuracy')\n",
    "plt.ylim([0.5, 1])\n",
    "plt.legend(loc='lower right')\n",
    "plt.show()\n"
   ],
   "id": "4ded628e8da52681",
   "outputs": [],
   "execution_count": null
  },
  {
   "metadata": {},
   "cell_type": "code",
   "source": "",
   "id": "f205d84d466168fa",
   "outputs": [],
   "execution_count": null
  }
 ],
 "metadata": {
  "kernelspec": {
   "display_name": "Python 3",
   "language": "python",
   "name": "python3"
  },
  "language_info": {
   "codemirror_mode": {
    "name": "ipython",
    "version": 2
   },
   "file_extension": ".py",
   "mimetype": "text/x-python",
   "name": "python",
   "nbconvert_exporter": "python",
   "pygments_lexer": "ipython2",
   "version": "2.7.6"
  }
 },
 "nbformat": 4,
 "nbformat_minor": 5
}
