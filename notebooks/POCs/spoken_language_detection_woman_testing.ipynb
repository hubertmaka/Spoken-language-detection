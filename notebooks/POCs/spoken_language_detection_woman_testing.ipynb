{
 "cells": [
  {
   "cell_type": "markdown",
   "source": [
    "# Spoken language detection"
   ],
   "metadata": {
    "collapsed": false
   },
   "id": "d758a0066910796d"
  },
  {
   "cell_type": "markdown",
   "source": [
    "## 1. "
   ],
   "metadata": {
    "collapsed": false
   },
   "id": "7b90391470eb7da4"
  },
  {
   "cell_type": "code",
   "source": [
    "import os\n",
    "import random\n",
    "import numpy as np\n",
    "import tensorflow as tf\n",
    "import librosa\n",
    "import matplotlib.pyplot as plt\n",
    "import pandas as pd\n",
    "import IPython"
   ],
   "metadata": {
    "collapsed": false,
    "ExecuteTime": {
     "end_time": "2024-05-06T08:29:33.303396400Z",
     "start_time": "2024-05-06T08:29:32.022416400Z"
    }
   },
   "id": "e771baad4b9578e9",
   "execution_count": 47,
   "outputs": []
  },
  {
   "cell_type": "code",
   "source": [
    "PL_LANG_FILE = os.path.join('languages_audio', 'languages_audio_wav', 'pl', 'clips', 'common_voice_pl_20547814.wav')\n",
    "PL_LANG_FILE"
   ],
   "metadata": {
    "collapsed": false,
    "ExecuteTime": {
     "end_time": "2024-05-06T08:29:33.373210500Z",
     "start_time": "2024-05-06T08:29:33.302398800Z"
    }
   },
   "id": "ff173514fa44dc8c",
   "execution_count": 48,
   "outputs": []
  },
  {
   "cell_type": "code",
   "source": [
    "\n",
    "file_content = tf.io.read_file(PL_LANG_FILE) # Load encoded wav file\n",
    "type(file_content)\n",
    "   "
   ],
   "metadata": {
    "collapsed": false,
    "ExecuteTime": {
     "end_time": "2024-05-06T08:29:33.458215Z",
     "start_time": "2024-05-06T08:29:33.354287900Z"
    }
   },
   "id": "2b028d34d63a7a96",
   "execution_count": 49,
   "outputs": []
  },
  {
   "cell_type": "code",
   "source": [
    "wav, sample_rate = tf.audio.decode_wav(file_content, desired_channels=1)"
   ],
   "metadata": {
    "collapsed": false,
    "ExecuteTime": {
     "end_time": "2024-05-06T08:29:33.506948500Z",
     "start_time": "2024-05-06T08:29:33.446248Z"
    }
   },
   "id": "eec2aff63ff570e7",
   "execution_count": 50,
   "outputs": []
  },
  {
   "cell_type": "code",
   "source": [
    "wav"
   ],
   "metadata": {
    "collapsed": false,
    "ExecuteTime": {
     "end_time": "2024-05-06T08:29:33.653696600Z",
     "start_time": "2024-05-06T08:29:33.505954800Z"
    }
   },
   "id": "165d2a15e32cef71",
   "execution_count": 51,
   "outputs": []
  },
  {
   "cell_type": "code",
   "source": [
    "sample_rate.numpy() # 48 kHz próbkowanie należy zmienic"
   ],
   "metadata": {
    "collapsed": false,
    "ExecuteTime": {
     "end_time": "2024-05-06T08:29:33.719520800Z",
     "start_time": "2024-05-06T08:29:33.606286600Z"
    }
   },
   "id": "a55378046eb58345",
   "execution_count": 52,
   "outputs": []
  },
  {
   "cell_type": "code",
   "source": [
    "wav = tf.squeeze(wav, axis=-1) # axis=-1 żeby usunąć ostatni wymiar który jest równy 1"
   ],
   "metadata": {
    "collapsed": false,
    "ExecuteTime": {
     "end_time": "2024-05-06T08:29:33.871718600Z",
     "start_time": "2024-05-06T08:29:33.718523300Z"
    }
   },
   "id": "88b380d62e019e07",
   "execution_count": 53,
   "outputs": []
  },
  {
   "cell_type": "code",
   "source": [
    "wav"
   ],
   "metadata": {
    "collapsed": false,
    "ExecuteTime": {
     "end_time": "2024-05-06T08:29:33.958233200Z",
     "start_time": "2024-05-06T08:29:33.843219400Z"
    }
   },
   "id": "57c70d55bd4597f2",
   "execution_count": 54,
   "outputs": []
  },
  {
   "cell_type": "code",
   "source": [
    "wav = librosa.resample(wav.numpy(), orig_sr=sample_rate.numpy(), target_sr=16_000)"
   ],
   "metadata": {
    "collapsed": false,
    "ExecuteTime": {
     "end_time": "2024-05-06T08:29:34.042731100Z",
     "start_time": "2024-05-06T08:29:33.906862200Z"
    }
   },
   "id": "7ba2527067b02b9c",
   "execution_count": 55,
   "outputs": []
  },
  {
   "cell_type": "code",
   "source": [
    "wav = tf.convert_to_tensor(wav, dtype=tf.float32)"
   ],
   "metadata": {
    "collapsed": false,
    "ExecuteTime": {
     "end_time": "2024-05-06T08:29:34.135710Z",
     "start_time": "2024-05-06T08:29:34.042731100Z"
    }
   },
   "id": "4de52491185a80ff",
   "execution_count": 56,
   "outputs": []
  },
  {
   "cell_type": "code",
   "source": [
    "wav_example = wav\n",
    "wav_example"
   ],
   "metadata": {
    "collapsed": false,
    "ExecuteTime": {
     "end_time": "2024-05-06T08:29:34.200376100Z",
     "start_time": "2024-05-06T08:29:34.094314600Z"
    }
   },
   "id": "a7e82a11e0c0b809",
   "execution_count": 57,
   "outputs": []
  },
  {
   "cell_type": "code",
   "source": [
    "plt.plot(wav)"
   ],
   "metadata": {
    "collapsed": false,
    "ExecuteTime": {
     "end_time": "2024-05-06T08:29:34.497860100Z",
     "start_time": "2024-05-06T08:29:34.172119700Z"
    }
   },
   "id": "20d348d5ad389a67",
   "execution_count": 58,
   "outputs": []
  },
  {
   "cell_type": "code",
   "source": [
    "IPython.display.Audio(PL_LANG_FILE)"
   ],
   "metadata": {
    "collapsed": false,
    "ExecuteTime": {
     "end_time": "2024-05-06T08:29:34.556213100Z",
     "start_time": "2024-05-06T08:29:34.371686700Z"
    }
   },
   "id": "8622964d5e5d569c",
   "execution_count": 59,
   "outputs": []
  },
  {
   "cell_type": "markdown",
   "source": [
    "### 2. Create Dataset"
   ],
   "metadata": {
    "collapsed": false
   },
   "id": "34f0cc05b1a0cb20"
  },
  {
   "cell_type": "code",
   "source": [
    "PL_DIR = os.path.join('languages_audio', 'languages_audio_wav', 'pl', 'clips')\n",
    "PL_DIR"
   ],
   "metadata": {
    "collapsed": false,
    "ExecuteTime": {
     "end_time": "2024-05-06T08:29:34.576298600Z",
     "start_time": "2024-05-06T08:29:34.404598300Z"
    }
   },
   "id": "4343ebee9c38ae63",
   "execution_count": 60,
   "outputs": []
  },
  {
   "cell_type": "code",
   "source": [
    "# create tensorflow dataset\n",
    "pl_dataset = tf.data.Dataset.list_files(PL_DIR + '\\*.wav')\n",
    "pl_dataset"
   ],
   "metadata": {
    "collapsed": false,
    "ExecuteTime": {
     "end_time": "2024-05-06T08:29:36.319240900Z",
     "start_time": "2024-05-06T08:29:34.500852300Z"
    }
   },
   "id": "ba1dbf66c6eda4bf",
   "execution_count": 61,
   "outputs": []
  },
  {
   "cell_type": "code",
   "source": [
    "pl_dataset.as_numpy_iterator().next()"
   ],
   "metadata": {
    "collapsed": false,
    "ExecuteTime": {
     "end_time": "2024-05-06T08:29:36.488312100Z",
     "start_time": "2024-05-06T08:29:36.295304900Z"
    }
   },
   "id": "9a641093a2c580c2",
   "execution_count": 62,
   "outputs": []
  },
  {
   "cell_type": "code",
   "source": [
    "pl_dataset.as_numpy_iterator().next()"
   ],
   "metadata": {
    "collapsed": false,
    "ExecuteTime": {
     "end_time": "2024-05-06T08:29:36.647899800Z",
     "start_time": "2024-05-06T08:29:36.419986700Z"
    }
   },
   "id": "88e49cfbfba3bafb",
   "execution_count": 63,
   "outputs": []
  },
  {
   "cell_type": "code",
   "source": [
    "df = pd.read_csv(os.path.join('languages_audio', 'languages_audio_mp3', 'pl', 'validated.tsv'), sep='\\t')\n",
    "df"
   ],
   "metadata": {
    "collapsed": false,
    "ExecuteTime": {
     "end_time": "2024-05-06T08:29:37.180527Z",
     "start_time": "2024-05-06T08:29:36.531197Z"
    }
   },
   "id": "b25c7c351f5d432",
   "execution_count": 64,
   "outputs": []
  },
  {
   "cell_type": "code",
   "source": [
    "df[df['gender'] == 'female_feminine']"
   ],
   "metadata": {
    "collapsed": false,
    "ExecuteTime": {
     "end_time": "2024-05-06T08:29:37.312269200Z",
     "start_time": "2024-05-06T08:29:37.153089800Z"
    }
   },
   "id": "a419164919440f40",
   "execution_count": 65,
   "outputs": []
  },
  {
   "cell_type": "code",
   "source": [
    "df[df['gender'] == 'male_masculine']"
   ],
   "metadata": {
    "collapsed": false,
    "ExecuteTime": {
     "end_time": "2024-05-06T08:29:37.388449Z",
     "start_time": "2024-05-06T08:29:37.186022400Z"
    }
   },
   "id": "6c0ecc7926645f66",
   "execution_count": 66,
   "outputs": []
  },
  {
   "cell_type": "code",
   "source": [
    "df.groupby('sentence_id').count()"
   ],
   "metadata": {
    "collapsed": false,
    "ExecuteTime": {
     "end_time": "2024-05-06T08:29:37.502657500Z",
     "start_time": "2024-05-06T08:29:37.215020900Z"
    }
   },
   "id": "805a0e99ad4a6f32",
   "execution_count": 67,
   "outputs": []
  },
  {
   "cell_type": "code",
   "source": [
    "df['sentence_id'].value_counts()"
   ],
   "metadata": {
    "collapsed": false,
    "ExecuteTime": {
     "end_time": "2024-05-06T08:29:38.362402500Z",
     "start_time": "2024-05-06T08:29:37.312269200Z"
    }
   },
   "id": "3765e7a31c9a897d",
   "execution_count": 68,
   "outputs": []
  },
  {
   "cell_type": "code",
   "source": [
    "df['sentence_id'].nunique()"
   ],
   "metadata": {
    "collapsed": false,
    "ExecuteTime": {
     "end_time": "2024-05-06T08:29:38.505727800Z",
     "start_time": "2024-05-06T08:29:37.344184300Z"
    }
   },
   "id": "91c679c99c892a10",
   "execution_count": 69,
   "outputs": []
  },
  {
   "cell_type": "code",
   "source": [
    "df['client_id'].value_counts().sort_values(ascending=True)"
   ],
   "metadata": {
    "collapsed": false,
    "ExecuteTime": {
     "end_time": "2024-05-06T08:29:38.532520800Z",
     "start_time": "2024-05-06T08:29:37.392438300Z"
    }
   },
   "id": "fedb03302fc130ee",
   "execution_count": 70,
   "outputs": []
  },
  {
   "cell_type": "code",
   "source": [],
   "metadata": {
    "collapsed": false,
    "ExecuteTime": {
     "end_time": "2024-05-06T08:29:38.536537200Z",
     "start_time": "2024-05-06T08:29:37.405403300Z"
    }
   },
   "id": "a8d7ac801357330b",
   "execution_count": 70,
   "outputs": []
  },
  {
   "cell_type": "code",
   "source": [
    "df[['sentence_id', 'client_id']].groupby(by='sentence_id').count().sort_values(by='client_id', ascending=False)\n"
   ],
   "metadata": {
    "collapsed": false,
    "ExecuteTime": {
     "end_time": "2024-05-06T08:29:38.643560Z",
     "start_time": "2024-05-06T08:29:37.422358700Z"
    }
   },
   "id": "b66628d65d38615e",
   "execution_count": 71,
   "outputs": []
  },
  {
   "cell_type": "code",
   "source": [
    "df[['client_id', 'sentence_id']].sort_values(by='client_id', ascending=False)"
   ],
   "metadata": {
    "collapsed": false,
    "ExecuteTime": {
     "end_time": "2024-05-06T08:29:38.706187Z",
     "start_time": "2024-05-06T08:29:37.498668600Z"
    }
   },
   "id": "788ead3deb0c642a",
   "execution_count": 72,
   "outputs": []
  },
  {
   "cell_type": "code",
   "source": [
    "df[['client_id', 'sentence_id']].sort_values(by='client_id', ascending=False)"
   ],
   "metadata": {
    "collapsed": false,
    "ExecuteTime": {
     "end_time": "2024-05-06T08:29:38.727477300Z",
     "start_time": "2024-05-06T08:29:37.567484900Z"
    }
   },
   "id": "54720b0b0d5e35f9",
   "execution_count": 73,
   "outputs": []
  },
  {
   "cell_type": "code",
   "source": [
    "df[df['client_id'] == 'ffffc00a5ed69f08a486837064ec2caeff21fe06264c3dd733f633fb6c2ae9aeb561a5a6f43e000554d4b3cc171644ba4ce971177af1cb54f9bd8cc153e71a5c']"
   ],
   "metadata": {
    "collapsed": false,
    "ExecuteTime": {
     "end_time": "2024-05-06T08:29:38.731467300Z",
     "start_time": "2024-05-06T08:29:37.644905500Z"
    }
   },
   "id": "28a7c157bc223a7",
   "execution_count": 74,
   "outputs": []
  },
  {
   "cell_type": "code",
   "source": [
    "# # sprawdzenie czy client_id oraz sequence_id się nie duplikują (czy jeden klient ma rózne sekwencej)\n",
    "# \n",
    "# for client_id in df['client_id'].unique():\n",
    "#     sentence_count = df['sentence_id'][df['client_id']  == client_id].count()\n",
    "#     client_id_count = df['client_id'][df['client_id']  == client_id].value_counts().iloc[0]\n",
    "#     if sentence_count != client_id_count:\n",
    "#         print(True)\n"
   ],
   "metadata": {
    "collapsed": false,
    "ExecuteTime": {
     "end_time": "2024-05-06T08:29:38.736453500Z",
     "start_time": "2024-05-06T08:29:37.694488500Z"
    }
   },
   "id": "59ec3f2d2259223d",
   "execution_count": 75,
   "outputs": []
  },
  {
   "cell_type": "code",
   "source": [
    "df['sentence_id'][df['client_id']  == 'ffffc00a5ed69f08a486837064ec2caeff21fe06264c3dd733f633fb6c2ae9aeb561a5a6f43e000554d4b3cc171644ba4ce971177af1cb54f9bd8cc153e71a5c'].count()"
   ],
   "metadata": {
    "collapsed": false,
    "ExecuteTime": {
     "end_time": "2024-05-06T08:29:38.740470300Z",
     "start_time": "2024-05-06T08:29:37.717453100Z"
    }
   },
   "id": "589f00618f423817",
   "execution_count": 76,
   "outputs": []
  },
  {
   "cell_type": "code",
   "source": [
    "df['client_id'][df['client_id']  == 'ffffc00a5ed69f08a486837064ec2caeff21fe06264c3dd733f633fb6c2ae9aeb561a5a6f43e000554d4b3cc171644ba4ce971177af1cb54f9bd8cc153e71a5c'].value_counts()"
   ],
   "metadata": {
    "collapsed": false,
    "ExecuteTime": {
     "end_time": "2024-05-06T08:29:38.759417Z",
     "start_time": "2024-05-06T08:29:37.732413100Z"
    }
   },
   "id": "833e078c9b16e7e2",
   "execution_count": 77,
   "outputs": []
  },
  {
   "cell_type": "code",
   "source": [
    "# TODO: WZiąć plik validated.tsv nastepnie podzielić go na mężczyzn i kobiety (dwa osobne dataset) [DONE]. następnie wrzucać do każdego ze zbiorów (najpiew testwoy, walidacyjny, treningowy) client_id od najmniejszej liczby wystąpień w obydwu  dopasować czas trwania każdej próbki (najpierw obcinać od środka, potem dopełniać zerami), zmienić na spektogram i dopiero wtedy dodać (koniec funkcji). druga funkcja będzie jako augumentowanie losowych danych (losowo wybiera funkcję która coś zrobi z danymi) jeżeli moje zbiory kobiet i mężczyzn nie będą spełniały wymaganej ilości próbek którą się poda. Na wyjściu ma być tensor z próbkami spektogramu. To zrobić finalnie dla każdego folderu (języka). Wtedy dopiero dodać label w formie one hot encoding"
   ],
   "metadata": {
    "collapsed": false,
    "ExecuteTime": {
     "end_time": "2024-05-06T08:29:38.764378200Z",
     "start_time": "2024-05-06T08:29:37.748370900Z"
    }
   },
   "id": "b41eb727ab7bcbf8",
   "execution_count": 78,
   "outputs": []
  },
  {
   "cell_type": "markdown",
   "source": [
    "## Load data:"
   ],
   "metadata": {
    "collapsed": false
   },
   "id": "d07b8080fb6705c7"
  },
  {
   "cell_type": "code",
   "source": [
    "df = pd.read_csv(os.path.join('languages_audio', 'languages_audio_mp3', 'pl', 'validated.tsv'), sep='\\t', usecols=['client_id', 'path', 'sentence_id', 'gender', 'locale'])"
   ],
   "metadata": {
    "collapsed": false,
    "ExecuteTime": {
     "end_time": "2024-05-06T08:29:39.199419900Z",
     "start_time": "2024-05-06T08:29:37.764327300Z"
    }
   },
   "id": "1ba578e1c67f2d8d",
   "execution_count": 79,
   "outputs": []
  },
  {
   "cell_type": "markdown",
   "source": [
    "## Change mp3 to wav name"
   ],
   "metadata": {
    "collapsed": false
   },
   "id": "8f69ec6d7189b945"
  },
  {
   "cell_type": "code",
   "source": [
    "df = df.apply(lambda path: path.str.replace('.mp3', '.wav'))"
   ],
   "metadata": {
    "collapsed": false,
    "ExecuteTime": {
     "end_time": "2024-05-06T08:29:39.238211600Z",
     "start_time": "2024-05-06T08:29:38.746427600Z"
    }
   },
   "id": "9422e72ec897347b",
   "execution_count": 80,
   "outputs": []
  },
  {
   "cell_type": "markdown",
   "source": [
    "## Split to woman and man sets"
   ],
   "metadata": {
    "collapsed": false
   },
   "id": "e3481591ddd6b352"
  },
  {
   "cell_type": "code",
   "source": [
    "df"
   ],
   "metadata": {
    "collapsed": false,
    "ExecuteTime": {
     "end_time": "2024-05-06T08:29:39.244195900Z",
     "start_time": "2024-05-06T08:29:38.870877200Z"
    }
   },
   "id": "437897c4a0dd254f",
   "execution_count": 81,
   "outputs": []
  },
  {
   "cell_type": "code",
   "source": [
    "woman_filter = df['gender'] == 'female_feminine'\n",
    "man_filter = df['gender'] == 'male_masculine'"
   ],
   "metadata": {
    "collapsed": false,
    "ExecuteTime": {
     "end_time": "2024-05-06T08:29:39.272141Z",
     "start_time": "2024-05-06T08:29:38.885836400Z"
    }
   },
   "id": "5ea864f56b635651",
   "execution_count": 82,
   "outputs": []
  },
  {
   "cell_type": "code",
   "source": [
    "df_women = df[woman_filter]\n",
    "df_women"
   ],
   "metadata": {
    "collapsed": false,
    "ExecuteTime": {
     "end_time": "2024-05-06T08:29:39.368327700Z",
     "start_time": "2024-05-06T08:29:38.900796200Z"
    }
   },
   "id": "283bff5acfcbbefb",
   "execution_count": 83,
   "outputs": []
  },
  {
   "cell_type": "code",
   "source": [
    "df_men = df[man_filter]\n",
    "df_men"
   ],
   "metadata": {
    "collapsed": false,
    "ExecuteTime": {
     "end_time": "2024-05-06T08:29:39.418563200Z",
     "start_time": "2024-05-06T08:29:38.931274800Z"
    }
   },
   "id": "d227f88872caa27c",
   "execution_count": 84,
   "outputs": []
  },
  {
   "cell_type": "markdown",
   "source": [
    "## Set number of probes in my set and split it to train, validate and test"
   ],
   "metadata": {
    "collapsed": false
   },
   "id": "bf90c16bcfef86e1"
  },
  {
   "cell_type": "code",
   "source": [
    "SET_SIZE = 1_000\n",
    "MAX_NUMBER_OF_CLIENT_ID = 3000\n",
    "MIN_CLIP_DURATION = 4000 #  clip time in [ms]\n",
    "\n",
    "TRAIN_SIZE = int(SET_SIZE * 0.6)\n",
    "VAL_SIZE = int((SET_SIZE - TRAIN_SIZE) // 2)\n",
    "TEST_SIZE = SET_SIZE - TRAIN_SIZE - VAL_SIZE\n",
    "\n",
    "print(f'Train size: {TRAIN_SIZE}')\n",
    "print(f'Validation size: {VAL_SIZE}')\n",
    "print(f'Test size: {TEST_SIZE}')\n",
    "print(f'Sum of sizes: {TRAIN_SIZE + VAL_SIZE + TEST_SIZE} is equal to SET_SIZE {TRAIN_SIZE + VAL_SIZE + TEST_SIZE == SET_SIZE}')"
   ],
   "metadata": {
    "collapsed": false,
    "ExecuteTime": {
     "end_time": "2024-05-06T08:29:39.482988800Z",
     "start_time": "2024-05-06T08:29:38.948737800Z"
    }
   },
   "id": "73b6742e55cd46ce",
   "execution_count": 85,
   "outputs": []
  },
  {
   "cell_type": "code",
   "source": [
    "# Select probes with min that time \n",
    "df_clips_duration = pd.read_csv(os.path.join('languages_audio', 'languages_audio_mp3', 'pl', 'clip_durations.tsv'), sep='\\t')\n",
    "df_clips_duration['clip'] = df_clips_duration['clip'].apply(lambda clip: clip.replace('.mp3', '.wav'))\n",
    "df_women = df_women.merge(df_clips_duration, left_on='path', right_on='clip')\n",
    "df_women"
   ],
   "metadata": {
    "collapsed": false,
    "ExecuteTime": {
     "end_time": "2024-05-06T08:29:39.755770700Z",
     "start_time": "2024-05-06T08:29:38.978658200Z"
    }
   },
   "id": "2bc35c9fa1f2a04a",
   "execution_count": 86,
   "outputs": []
  },
  {
   "cell_type": "code",
   "source": [
    "\n",
    "# \n",
    "# for i in range(len(df_clips_duration)):\n",
    "#     print(i)\n",
    "#     row_in_df = df_men[df_men['path']== df_clips_duration.iloc[i]['clip']] \n",
    "#     if (df_clips_duration.iloc[i]['duration[ms]'] >= MIN_CLIP_DURATION) and (len(row_in_df) >= 0):\n",
    "#         rows_over_min_dur_time = pd.concat([rows_over_min_dur_time, row_in_df])\n",
    "#     else:\n",
    "#         rows_under_min_dur_time = pd.concat([rows_under_min_dur_time, row_in_df])\n",
    "# \n",
    "# \n",
    "\n",
    "rows_over_min_dur_time = df_women[df_women['duration[ms]'] >= MIN_CLIP_DURATION]\n",
    "rows_under_min_dur_time = df_women[df_women['duration[ms]'] < MIN_CLIP_DURATION]\n",
    "rows_over_min_dur_time"
   ],
   "metadata": {
    "collapsed": false,
    "ExecuteTime": {
     "end_time": "2024-05-06T08:29:39.778710700Z",
     "start_time": "2024-05-06T08:29:39.186945600Z"
    }
   },
   "id": "a901ecef326bfb2e",
   "execution_count": 87,
   "outputs": []
  },
  {
   "cell_type": "code",
   "source": [
    "rows_under_min_dur_time"
   ],
   "metadata": {
    "collapsed": false,
    "ExecuteTime": {
     "end_time": "2024-05-06T08:29:39.783751Z",
     "start_time": "2024-05-06T08:29:39.213382900Z"
    }
   },
   "id": "2fe7b8e7b0273d45",
   "execution_count": 88,
   "outputs": []
  },
  {
   "cell_type": "code",
   "source": [
    "if len(rows_over_min_dur_time) >= SET_SIZE:\n",
    "    df_women = rows_over_min_dur_time\n",
    "else:\n",
    "    df_women = pd.concat([rows_over_min_dur_time, rows_under_min_dur_time], ignore_index=True)[:SET_SIZE]\n",
    "\n",
    "df_women"
   ],
   "metadata": {
    "collapsed": false,
    "ExecuteTime": {
     "end_time": "2024-05-06T08:29:39.810676100Z",
     "start_time": "2024-05-06T08:29:39.228906500Z"
    }
   },
   "id": "3a4ae1c66f24659e",
   "execution_count": 89,
   "outputs": []
  },
  {
   "cell_type": "code",
   "source": [
    "df_train = pd.DataFrame()\n",
    "df_val = pd.DataFrame()\n",
    "df_test = pd.DataFrame()"
   ],
   "metadata": {
    "collapsed": false,
    "ExecuteTime": {
     "end_time": "2024-05-06T08:29:39.836563400Z",
     "start_time": "2024-05-06T08:29:39.246189800Z"
    }
   },
   "id": "94f0a7c187961064",
   "execution_count": 90,
   "outputs": []
  },
  {
   "cell_type": "code",
   "source": [
    "df_counted_id = df_women['client_id'].value_counts(ascending=True)\n",
    "df_counted_id"
   ],
   "metadata": {
    "collapsed": false,
    "ExecuteTime": {
     "end_time": "2024-05-06T08:29:39.859502300Z",
     "start_time": "2024-05-06T08:29:39.260661Z"
    }
   },
   "id": "6219cdc9196dd3c8",
   "execution_count": 91,
   "outputs": []
  },
  {
   "cell_type": "code",
   "source": [
    "# clients_form_origin_df = df_women[df_women['client_id'] == df_counted_id.index[200]]\n",
    "# clients_form_origin_df1 = df_women[df_women['client_id'] == df_counted_id.index[201]]\n",
    "# clients_form_origin_df1['client_id'].iloc[0]"
   ],
   "metadata": {
    "collapsed": false,
    "ExecuteTime": {
     "end_time": "2024-05-06T08:29:39.871493700Z",
     "start_time": "2024-05-06T08:29:39.276130100Z"
    }
   },
   "id": "b9d38e4396a58bfc",
   "execution_count": 92,
   "outputs": []
  },
  {
   "cell_type": "code",
   "source": [
    "# df_test = pd.concat([df_test, clients_form_origin_df], ignore_index=True)\n",
    "# df_test = pd.concat([df_test, clients_form_origin_df1], ignore_index=True)\n",
    "# df_test"
   ],
   "metadata": {
    "collapsed": false,
    "ExecuteTime": {
     "end_time": "2024-05-06T08:29:39.896404100Z",
     "start_time": "2024-05-06T08:29:39.292087400Z"
    }
   },
   "id": "398c94c683a2fe41",
   "execution_count": 93,
   "outputs": []
  },
  {
   "cell_type": "code",
   "source": [
    "for i in range(len(df_counted_id)):\n",
    "    print(df_counted_id.index[i], df_counted_id.iloc[i])\n",
    "    rows_form_origin_df = df_women[df_women['client_id'] == df_counted_id.index[i]][:MAX_NUMBER_OF_CLIENT_ID]\n",
    "    if len(rows_form_origin_df) <= (TEST_SIZE - len(df_test)) and rows_form_origin_df['client_id'].iloc[0] not in df_test:\n",
    "        df_test = pd.concat([df_test, rows_form_origin_df], ignore_index=True)\n",
    "        continue\n",
    "    if len(rows_form_origin_df) <= (VAL_SIZE - len(df_val)):\n",
    "        df_val = pd.concat([df_val, rows_form_origin_df], ignore_index=True)\n",
    "        continue\n",
    "    if len(rows_form_origin_df) <= (TRAIN_SIZE - len(df_train)):\n",
    "        df_train = pd.concat([df_train, rows_form_origin_df], ignore_index=True)\n",
    "        continue\n",
    "    "
   ],
   "metadata": {
    "collapsed": false,
    "ExecuteTime": {
     "end_time": "2024-05-06T08:29:39.928318Z",
     "start_time": "2024-05-06T08:29:39.310546700Z"
    }
   },
   "id": "537212501acba841",
   "execution_count": 94,
   "outputs": []
  },
  {
   "cell_type": "code",
   "source": [
    "df_test"
   ],
   "metadata": {
    "collapsed": false,
    "ExecuteTime": {
     "end_time": "2024-05-06T08:29:40.038586200Z",
     "start_time": "2024-05-06T08:29:39.412578900Z"
    }
   },
   "id": "cfc9212855ee88ed",
   "execution_count": 95,
   "outputs": []
  },
  {
   "cell_type": "code",
   "source": [
    "df_val"
   ],
   "metadata": {
    "collapsed": false,
    "ExecuteTime": {
     "end_time": "2024-05-06T08:29:40.069536700Z",
     "start_time": "2024-05-06T08:29:39.430531200Z"
    }
   },
   "id": "34a10b1cb13de8b8",
   "execution_count": 96,
   "outputs": []
  },
  {
   "cell_type": "code",
   "source": [
    "df_train"
   ],
   "metadata": {
    "collapsed": false,
    "ExecuteTime": {
     "end_time": "2024-05-06T08:29:40.074491400Z",
     "start_time": "2024-05-06T08:29:39.461451100Z"
    }
   },
   "id": "b6d606986613d249",
   "execution_count": 97,
   "outputs": []
  },
  {
   "cell_type": "code",
   "source": [
    "df_train['client_id'].value_counts(ascending=False)"
   ],
   "metadata": {
    "collapsed": false,
    "ExecuteTime": {
     "end_time": "2024-05-06T08:29:40.153935300Z",
     "start_time": "2024-05-06T08:29:39.476977Z"
    }
   },
   "id": "2dc1f3507e88ca70",
   "execution_count": 98,
   "outputs": []
  },
  {
   "cell_type": "code",
   "source": [
    "df_val['client_id'].value_counts(ascending=False)"
   ],
   "metadata": {
    "collapsed": false,
    "ExecuteTime": {
     "end_time": "2024-05-06T08:29:40.163489300Z",
     "start_time": "2024-05-06T08:29:39.491550200Z"
    }
   },
   "id": "b76854c74dcbe6ec",
   "execution_count": 99,
   "outputs": []
  },
  {
   "cell_type": "code",
   "source": [
    "df_test['client_id'].value_counts(ascending=False)"
   ],
   "metadata": {
    "collapsed": false,
    "ExecuteTime": {
     "end_time": "2024-05-06T08:29:40.225382100Z",
     "start_time": "2024-05-06T08:29:39.509499900Z"
    }
   },
   "id": "b852eeccef319e18",
   "execution_count": 100,
   "outputs": []
  },
  {
   "cell_type": "markdown",
   "source": [
    "## Audio Preprocessing"
   ],
   "metadata": {
    "collapsed": false
   },
   "id": "29260740840bf9d"
  },
  {
   "cell_type": "code",
   "source": [
    "\n"
   ],
   "metadata": {
    "collapsed": false,
    "ExecuteTime": {
     "end_time": "2024-05-06T08:29:40.247350300Z",
     "start_time": "2024-05-06T08:29:39.522476300Z"
    }
   },
   "id": "b5266bd11b101c85",
   "execution_count": 100,
   "outputs": []
  },
  {
   "cell_type": "code",
   "source": [],
   "metadata": {
    "collapsed": false,
    "ExecuteTime": {
     "end_time": "2024-05-06T08:29:40.251336800Z",
     "start_time": "2024-05-06T08:29:39.540418100Z"
    }
   },
   "id": "e5eb4e2ce3a79b64",
   "execution_count": 100,
   "outputs": []
  },
  {
   "cell_type": "code",
   "source": [
    "df_test_filenames = df_test['path']\n",
    "df_val_filenames = df_val['path']\n",
    "df_train_filenames = df_train['path']\n",
    "df_test_filenames"
   ],
   "metadata": {
    "collapsed": false,
    "ExecuteTime": {
     "end_time": "2024-05-06T08:29:40.330367900Z",
     "start_time": "2024-05-06T08:29:39.556374800Z"
    }
   },
   "id": "a8924444a65be459",
   "execution_count": 101,
   "outputs": []
  },
  {
   "cell_type": "code",
   "source": [],
   "metadata": {
    "collapsed": false,
    "ExecuteTime": {
     "end_time": "2024-05-06T08:29:40.335353900Z",
     "start_time": "2024-05-06T08:29:39.571335300Z"
    }
   },
   "id": "ad8dc801a01d1723",
   "execution_count": 101,
   "outputs": []
  },
  {
   "cell_type": "code",
   "source": [
    "df_val_filenames"
   ],
   "metadata": {
    "collapsed": false,
    "ExecuteTime": {
     "end_time": "2024-05-06T08:29:40.357296500Z",
     "start_time": "2024-05-06T08:29:39.587534600Z"
    }
   },
   "id": "a365f15425586089",
   "execution_count": 102,
   "outputs": []
  },
  {
   "cell_type": "code",
   "source": [
    "PL_DIR = os.path.join('languages_audio', 'languages_audio_wav', 'pl', 'clips')\n",
    "PL_DIR"
   ],
   "metadata": {
    "collapsed": false,
    "ExecuteTime": {
     "end_time": "2024-05-06T08:29:40.598952Z",
     "start_time": "2024-05-06T08:29:39.601521300Z"
    }
   },
   "id": "6a0e645b674e76b8",
   "execution_count": 103,
   "outputs": []
  },
  {
   "cell_type": "code",
   "source": [
    "# TEST\n",
    "df_train_filenames = df_train_filenames.apply(lambda fn: os.path.join(PL_DIR, fn))\n",
    "df_val_filenames = df_val_filenames.apply(lambda fn: os.path.join(PL_DIR, fn))\n",
    "df_test_filenames = df_test_filenames.apply(lambda fn: os.path.join(PL_DIR, fn))\n",
    "df_val_filenames"
   ],
   "metadata": {
    "collapsed": false,
    "ExecuteTime": {
     "end_time": "2024-05-06T08:29:40.679244600Z",
     "start_time": "2024-05-06T08:29:39.619449600Z"
    }
   },
   "id": "48837fb6e1737922",
   "execution_count": 104,
   "outputs": []
  },
  {
   "cell_type": "code",
   "source": [
    "# STARE\n",
    "# pl_dataset_train = tf.data.Dataset.from_tensor_slices(df_train_filenames.apply(lambda fn: os.path.join(PL_DIR, fn)))\n",
    "# pl_dataset_val = tf.data.Dataset.from_tensor_slices(df_val_filenames.apply(lambda fn: os.path.join(PL_DIR, fn)))\n",
    "# pl_dataset_test = tf.data.Dataset.from_tensor_slices(df_test_filenames.apply(lambda fn: os.path.join(PL_DIR, fn)))\n",
    "\n"
   ],
   "metadata": {
    "collapsed": false,
    "ExecuteTime": {
     "end_time": "2024-05-06T08:29:40.684230400Z",
     "start_time": "2024-05-06T08:29:39.635407100Z"
    }
   },
   "id": "8152a30b0143953a",
   "execution_count": 105,
   "outputs": []
  },
  {
   "cell_type": "code",
   "source": [
    "sample_rate = 48_000\n",
    "\n",
    "def add_zeros(wav, sample_rate):\n",
    "    time_probes = wav.shape[0]\n",
    "    missing_probes_one_side = int((MIN_CLIP_DURATION/1000* sample_rate - time_probes)//2)\n",
    "    padded_tensor = tf.pad(wav.numpy(), [[missing_probes_one_side, missing_probes_one_side]])\n",
    "    return tf.convert_to_tensor(padded_tensor, dtype=tf.float32)\n",
    "\n",
    "def cut_wav(wav, sample_rate):\n",
    "    time_probes = wav.shape[0]\n",
    "    # clip_dur_in_sec = time_probes / sample_rate\n",
    "    overlap = int((time_probes - (MIN_CLIP_DURATION/1000) * sample_rate)/2) \n",
    "    cut_clip = wav[overlap:(time_probes - overlap)]\n",
    "    return tf.convert_to_tensor(cut_clip, dtype=tf.float32)\n",
    "\n",
    "def load_wav_16k_mono_and_resample(filename, fin_sam_rate=16_000):\n",
    "    file_content = tf.io.read_file(filename)\n",
    "    wav, sample_rate = tf.audio.decode_wav(file_content, desired_channels=1)\n",
    "    wav = tf.squeeze(wav, axis=-1)\n",
    "    sample_rate = tf.cast(sample_rate, dtype=tf.int32)\n",
    "    # wav = librosa.resample(wav.numpy(), orig_sr=sample_rate.numpy(), target_sr=fin_sam_rate)\n",
    "    # return wav\n",
    "    # return tf.convert_to_tensor(wav, dtype=tf.float32), sample_rate.numpy()\n",
    "    return tf.convert_to_tensor(wav, dtype=tf.float32)\n",
    "\n",
    "def load_and_align_probes(file_path):\n",
    "    wav = load_wav_16k_mono_and_resample(file_path)\n",
    "    expected_probes = int((MIN_CLIP_DURATION/1000) * sample_rate)\n",
    "    print(expected_probes)\n",
    "    current_probes = wav.shape[0]\n",
    "    print(current_probes)\n",
    "    if expected_probes > current_probes:\n",
    "        print(\"Add zeros\")\n",
    "        return add_zeros(wav, sample_rate)\n",
    "    elif expected_probes < current_probes:\n",
    "        print(\"Cut wav\")\n",
    "        return cut_wav(wav, sample_rate)\n",
    "    return tf.convert_to_tensor(wav, dtype=tf.float32)\n",
    "\n"
   ],
   "metadata": {
    "collapsed": false,
    "ExecuteTime": {
     "end_time": "2024-05-06T08:29:40.710161400Z",
     "start_time": "2024-05-06T08:29:39.653358200Z"
    }
   },
   "id": "9c8d53182f5b9bce",
   "execution_count": 106,
   "outputs": []
  },
  {
   "cell_type": "code",
   "source": [
    "train_align_tensors = df_train_filenames.apply(lambda filename: load_and_align_probes(filename))\n",
    "val_align_tensors = df_test_filenames.apply(lambda filename: load_and_align_probes(filename))\n",
    "test_align_tensors = df_val_filenames.apply(lambda filename: load_and_align_probes(filename))\n",
    "\n",
    "\n",
    "test_align_tensors\n",
    "type(test_align_tensors)\n",
    "# df_train_filenames[:5].apply(lambda filename: load_and_align_probes(filename))"
   ],
   "metadata": {
    "collapsed": false,
    "ExecuteTime": {
     "end_time": "2024-05-06T08:29:57.892417300Z",
     "start_time": "2024-05-06T08:29:39.752779600Z"
    }
   },
   "id": "59b0b2f915f9abdd",
   "execution_count": 107,
   "outputs": []
  },
  {
   "cell_type": "code",
   "source": [
    "test_align_tensors.to_list()"
   ],
   "metadata": {
    "collapsed": false,
    "ExecuteTime": {
     "end_time": "2024-05-06T08:29:57.955443200Z",
     "start_time": "2024-05-06T08:29:57.892417300Z"
    }
   },
   "id": "3500453bde18d26e",
   "execution_count": 108,
   "outputs": []
  },
  {
   "cell_type": "code",
   "source": [
    "train_align_dataset = tf.data.Dataset.from_tensor_slices(train_align_tensors.to_list())\n",
    "test_align_dataset = tf.data.Dataset.from_tensor_slices(val_align_tensors.to_list())\n",
    "val_align_dataset = tf.data.Dataset.from_tensor_slices(test_align_tensors.to_list())\n",
    "\n",
    "test_align_dataset"
   ],
   "metadata": {
    "collapsed": false,
    "ExecuteTime": {
     "end_time": "2024-05-06T08:29:58.139240500Z",
     "start_time": "2024-05-06T08:29:57.938516200Z"
    }
   },
   "id": "72b7f3fb18b5c989",
   "execution_count": 109,
   "outputs": []
  },
  {
   "cell_type": "code",
   "source": [
    "# test_align_dataset.as_numpy_iterator().next()"
   ],
   "metadata": {
    "collapsed": false,
    "ExecuteTime": {
     "end_time": "2024-05-06T08:29:58.167670800Z",
     "start_time": "2024-05-06T08:29:58.140238200Z"
    }
   },
   "id": "f29b31a21a5a43f",
   "execution_count": 110,
   "outputs": []
  },
  {
   "cell_type": "code",
   "source": [
    "# pl_dataset_test.as_numpy_iterator().next()"
   ],
   "metadata": {
    "collapsed": false,
    "ExecuteTime": {
     "end_time": "2024-05-06T08:29:58.197590600Z",
     "start_time": "2024-05-06T08:29:58.154705700Z"
    }
   },
   "id": "3b9b32aa07f7d3aa",
   "execution_count": 111,
   "outputs": []
  },
  {
   "cell_type": "code",
   "source": [],
   "metadata": {
    "collapsed": false,
    "ExecuteTime": {
     "end_time": "2024-05-06T08:29:58.216540900Z",
     "start_time": "2024-05-06T08:29:58.169665800Z"
    }
   },
   "id": "74fc56cd91f429b6",
   "execution_count": 111,
   "outputs": []
  },
  {
   "cell_type": "code",
   "source": [
    "\n",
    "# clip = load_wav_16k_mono_and_resample(df_train_filenames[0])\n",
    "# print(clip)\n",
    "\n"
   ],
   "metadata": {
    "collapsed": false,
    "ExecuteTime": {
     "end_time": "2024-05-06T08:29:58.237515300Z",
     "start_time": "2024-05-06T08:29:58.186622900Z"
    }
   },
   "id": "332b30daf7ac6565",
   "execution_count": 112,
   "outputs": []
  },
  {
   "cell_type": "code",
   "source": [
    "# plt.plot(clip)"
   ],
   "metadata": {
    "collapsed": false,
    "ExecuteTime": {
     "end_time": "2024-05-06T08:29:58.272932900Z",
     "start_time": "2024-05-06T08:29:58.201580200Z"
    }
   },
   "id": "e4126cb478068b07",
   "execution_count": 113,
   "outputs": []
  },
  {
   "cell_type": "code",
   "source": [],
   "metadata": {
    "collapsed": false,
    "ExecuteTime": {
     "end_time": "2024-05-06T08:29:58.289868800Z",
     "start_time": "2024-05-06T08:29:58.218535400Z"
    }
   },
   "id": "9d7b8d2e634efd0c",
   "execution_count": 113,
   "outputs": []
  },
  {
   "cell_type": "code",
   "source": [
    "# cut_clip = cut_wav(clip, sample_rate)\n",
    "# cut_clip"
   ],
   "metadata": {
    "collapsed": false,
    "ExecuteTime": {
     "end_time": "2024-05-06T08:29:58.307841400Z",
     "start_time": "2024-05-06T08:29:58.236518Z"
    }
   },
   "id": "c52232a7a4c99edc",
   "execution_count": 114,
   "outputs": []
  },
  {
   "cell_type": "code",
   "source": [
    "\n"
   ],
   "metadata": {
    "collapsed": false,
    "ExecuteTime": {
     "end_time": "2024-05-06T08:29:58.312807300Z",
     "start_time": "2024-05-06T08:29:58.249056200Z"
    }
   },
   "id": "4e3c544f4d65a07b",
   "execution_count": 114,
   "outputs": []
  },
  {
   "cell_type": "code",
   "source": [
    "# add_zeros(wav[:30000], sample_rate)"
   ],
   "metadata": {
    "collapsed": false,
    "ExecuteTime": {
     "end_time": "2024-05-06T08:29:58.356349300Z",
     "start_time": "2024-05-06T08:29:58.265935400Z"
    }
   },
   "id": "f8c23dfa6824185f",
   "execution_count": 115,
   "outputs": []
  },
  {
   "cell_type": "code",
   "source": [
    "# def align_probes(wav, sample_rate):\n",
    "#     # wav = load_wav_16k_mono_and_resample(file_path)\n",
    "#     expected_probes = int((MIN_CLIP_DURATION/1000) * sample_rate)\n",
    "#     print(expected_probes)\n",
    "#     current_probes = wav.shape[0]\n",
    "#     print(current_probes)\n",
    "#     if expected_probes > current_probes:\n",
    "#         print(\"Add zeros\")\n",
    "#         wav = add_zeros(wav, sample_rate)\n",
    "#     elif expected_probes < current_probes:\n",
    "#         print(\"Cut wav\")\n",
    "#         wav = cut_wav(wav, sample_rate)\n",
    "#     return wav\n",
    "    "
   ],
   "metadata": {
    "collapsed": false,
    "ExecuteTime": {
     "end_time": "2024-05-06T08:29:58.379285Z",
     "start_time": "2024-05-06T08:29:58.281890400Z"
    }
   },
   "id": "a1a3a38e611098fa",
   "execution_count": 116,
   "outputs": []
  },
  {
   "cell_type": "code",
   "source": [
    "def align_probes(wav, sample_rate):\n",
    "    # wav = load_wav_16k_mono_and_resample(file_path)\n",
    "    expected_probes = (MIN_CLIP_DURATION/1000) * sample_rate\n",
    "    print(expected_probes)\n",
    "    current_probes = wav.shape[0]\n",
    "    print(current_probes)\n",
    "    if expected_probes > current_probes:\n",
    "        print(\"Add zeros\")\n",
    "        return add_zeros(wav, sample_rate)\n",
    "    if expected_probes < current_probes:\n",
    "        print(\"Cut wav\")\n",
    "        return cut_wav(wav, sample_rate)\n",
    "    return wav\n",
    "    "
   ],
   "metadata": {
    "collapsed": false,
    "ExecuteTime": {
     "end_time": "2024-05-06T08:29:58.388255300Z",
     "start_time": "2024-05-06T08:29:58.298845300Z"
    }
   },
   "id": "f0a38271117d59b7",
   "execution_count": 117,
   "outputs": []
  },
  {
   "cell_type": "code",
   "source": [
    "# a = align_probes(cut_clip, sample_rate)\n",
    "# a"
   ],
   "metadata": {
    "collapsed": false,
    "ExecuteTime": {
     "end_time": "2024-05-06T08:29:58.404193500Z",
     "start_time": "2024-05-06T08:29:58.313805300Z"
    }
   },
   "id": "512bed33b954ac1b",
   "execution_count": 118,
   "outputs": []
  },
  {
   "cell_type": "code",
   "source": [
    "# plt.plot(a)"
   ],
   "metadata": {
    "collapsed": false,
    "ExecuteTime": {
     "end_time": "2024-05-06T08:29:58.416698400Z",
     "start_time": "2024-05-06T08:29:58.329762500Z"
    }
   },
   "id": "833a1827f53bab24",
   "execution_count": 119,
   "outputs": []
  },
  {
   "cell_type": "code",
   "source": [
    "MIN_CLIP_DURATION/1000* sample_rate"
   ],
   "metadata": {
    "collapsed": false,
    "ExecuteTime": {
     "end_time": "2024-05-06T08:29:58.450630300Z",
     "start_time": "2024-05-06T08:29:58.347346800Z"
    }
   },
   "id": "94908a310416b0f0",
   "execution_count": 120,
   "outputs": []
  },
  {
   "cell_type": "code",
   "source": [
    "def increase_amplitude(wav, min_increase=2.0, max_increase=5.0):\n",
    "    increased_wav = wav * random.uniform(min_increase, max_increase)\n",
    "    return tf.convert_to_tensor(increased_wav, dtype=tf.float32)"
   ],
   "metadata": {
    "collapsed": false,
    "ExecuteTime": {
     "end_time": "2024-05-06T08:29:58.469554100Z",
     "start_time": "2024-05-06T08:29:58.362305500Z"
    }
   },
   "id": "f6111e6d7401e4a5",
   "execution_count": 121,
   "outputs": []
  },
  {
   "cell_type": "code",
   "source": [
    "# inc_a = increase_amplitude(a)"
   ],
   "metadata": {
    "collapsed": false,
    "ExecuteTime": {
     "end_time": "2024-05-06T08:29:58.495484100Z",
     "start_time": "2024-05-06T08:29:58.378263700Z"
    }
   },
   "id": "13b5b423041d6406",
   "execution_count": 122,
   "outputs": []
  },
  {
   "cell_type": "code",
   "source": [
    "# plt.plot(inc_a)"
   ],
   "metadata": {
    "collapsed": false,
    "ExecuteTime": {
     "end_time": "2024-05-06T08:29:58.546909500Z",
     "start_time": "2024-05-06T08:29:58.393223600Z"
    }
   },
   "id": "4a0ea63485d7a556",
   "execution_count": 123,
   "outputs": []
  },
  {
   "cell_type": "code",
   "source": [
    "def normalize_audio(wav):\n",
    "    max_amplitude = tf.reduce_max(tf.abs(wav))\n",
    "    normalized_wav = wav / max_amplitude  # Normalizacja do zakresu [-1, 1]\n",
    "    return normalized_wav"
   ],
   "metadata": {
    "collapsed": false,
    "ExecuteTime": {
     "end_time": "2024-05-06T08:29:58.583012100Z",
     "start_time": "2024-05-06T08:29:58.410178100Z"
    }
   },
   "id": "bf9ffe4a7b8fc4f1",
   "execution_count": 124,
   "outputs": []
  },
  {
   "cell_type": "code",
   "source": [
    "# norm_a = normalize_audio(inc_a)\n",
    "# norm_a"
   ],
   "metadata": {
    "collapsed": false,
    "ExecuteTime": {
     "end_time": "2024-05-06T08:29:58.587541100Z",
     "start_time": "2024-05-06T08:29:58.423690500Z"
    }
   },
   "id": "80637b546ad63eaa",
   "execution_count": 125,
   "outputs": []
  },
  {
   "cell_type": "code",
   "source": [
    "# plt.plot(norm_a)"
   ],
   "metadata": {
    "collapsed": false,
    "ExecuteTime": {
     "end_time": "2024-05-06T08:29:58.634417500Z",
     "start_time": "2024-05-06T08:29:58.440631700Z"
    }
   },
   "id": "8a643966aa163e7e",
   "execution_count": 126,
   "outputs": []
  },
  {
   "cell_type": "code",
   "source": [
    "def add_noise(wav, noise_level=0.1):\n",
    "    noise = tf.random.normal(tf.shape(wav), mean=0.0, stddev=noise_level)\n",
    "    return wav + noise"
   ],
   "metadata": {
    "collapsed": false,
    "ExecuteTime": {
     "end_time": "2024-05-06T08:29:58.657333400Z",
     "start_time": "2024-05-06T08:29:58.457586100Z"
    }
   },
   "id": "3d8db06681bdb844",
   "execution_count": 127,
   "outputs": []
  },
  {
   "cell_type": "code",
   "source": [
    "# noise_a = add_noise(inc_a)\n",
    "# noise_a"
   ],
   "metadata": {
    "collapsed": false,
    "ExecuteTime": {
     "end_time": "2024-05-06T08:29:58.662320Z",
     "start_time": "2024-05-06T08:29:58.472545600Z"
    }
   },
   "id": "4ec03f2959eaaafe",
   "execution_count": 128,
   "outputs": []
  },
  {
   "cell_type": "code",
   "source": [
    "# plt.plot(noise_a)"
   ],
   "metadata": {
    "collapsed": false,
    "ExecuteTime": {
     "end_time": "2024-05-06T08:29:58.672311900Z",
     "start_time": "2024-05-06T08:29:58.488527500Z"
    }
   },
   "id": "81bca0c6340eeca9",
   "execution_count": 129,
   "outputs": []
  },
  {
   "cell_type": "code",
   "source": [
    "def time_masking(wav, max_mask_length=10000):\n",
    "    # Sprawdzenie długości wav\n",
    "        # Sprawdzenie czy wav jest pusty lub ma nieprawidłowy kształt\n",
    "    if wav is None or tf.rank(wav) != 1:\n",
    "        return wav\n",
    "    \n",
    "    # Sprawdzenie długości wav\n",
    "    if tf.shape(wav)[0] <= max_mask_length:\n",
    "        return wav\n",
    "    \n",
    "    # Losowa długość maskowania\n",
    "    mask_length = tf.random.uniform([], maxval=max_mask_length, dtype=tf.int32)\n",
    "    \n",
    "    # Sprawdzenie, czy maska nie wyjdzie poza zakres\n",
    "    mask_start_max = tf.shape(wav)[0] - mask_length\n",
    "    mask_start = tf.random.uniform([], maxval=mask_start_max, dtype=tf.int32)\n",
    "    \n",
    "    # Stworzenie maski czasowej\n",
    "    mask = tf.concat([\n",
    "        tf.ones([mask_start]),\n",
    "        tf.zeros([mask_length]),\n",
    "        tf.ones([tf.shape(wav)[0] - mask_start - mask_length])\n",
    "    ], axis=0)\n",
    "    \n",
    "    # Zastosowanie maskowania do sygnału audio\n",
    "    masked_wav = wav * mask\n",
    "    \n",
    "    return masked_wav\n"
   ],
   "metadata": {
    "collapsed": false,
    "ExecuteTime": {
     "end_time": "2024-05-06T08:29:58.685257900Z",
     "start_time": "2024-05-06T08:29:58.505457500Z"
    }
   },
   "id": "144e847d5de32db0",
   "execution_count": 130,
   "outputs": []
  },
  {
   "cell_type": "code",
   "source": [
    "# masked_a = time_masking(inc_a, max_mask_length=50000)\n",
    "# masked_a"
   ],
   "metadata": {
    "collapsed": false,
    "ExecuteTime": {
     "end_time": "2024-05-06T08:29:58.706740300Z",
     "start_time": "2024-05-06T08:29:58.521031500Z"
    }
   },
   "id": "a6a859ef4820bb8d",
   "execution_count": 131,
   "outputs": []
  },
  {
   "cell_type": "code",
   "source": [
    "# plt.plot(masked_a)"
   ],
   "metadata": {
    "collapsed": false,
    "ExecuteTime": {
     "end_time": "2024-05-06T08:29:58.725689100Z",
     "start_time": "2024-05-06T08:29:58.566850200Z"
    }
   },
   "id": "a30448e4574b193",
   "execution_count": 132,
   "outputs": []
  },
  {
   "cell_type": "code",
   "source": [
    "def change_pitch(wav, sample_rate=48000, pitch_shift=2):\n",
    "    wav_np = wav.numpy()  # Convert tensor to numpy array\n",
    "    pitched_wav = librosa.effects.pitch_shift(wav_np, sr=sample_rate, n_steps=pitch_shift)\n",
    "    return tf.convert_to_tensor(pitched_wav, dtype=tf.float32)\n"
   ],
   "metadata": {
    "collapsed": false,
    "ExecuteTime": {
     "end_time": "2024-05-06T08:29:58.742643900Z",
     "start_time": "2024-05-06T08:29:58.582034300Z"
    }
   },
   "id": "81222bca1cef8ca7",
   "execution_count": 133,
   "outputs": []
  },
  {
   "cell_type": "code",
   "source": [
    "# pitch_a = change_pitch(inc_a, sample_rate)\n",
    "# pitch_a"
   ],
   "metadata": {
    "collapsed": false,
    "ExecuteTime": {
     "end_time": "2024-05-06T08:29:58.756606600Z",
     "start_time": "2024-05-06T08:29:58.597521800Z"
    }
   },
   "id": "37a0ee55cb4c3ae0",
   "execution_count": 134,
   "outputs": []
  },
  {
   "cell_type": "code",
   "source": [
    "# plt.plot(pitch_a)"
   ],
   "metadata": {
    "collapsed": false,
    "ExecuteTime": {
     "end_time": "2024-05-06T08:29:58.761592800Z",
     "start_time": "2024-05-06T08:29:58.612453Z"
    }
   },
   "id": "5f2ed133e7875796",
   "execution_count": 135,
   "outputs": []
  },
  {
   "cell_type": "code",
   "source": [
    "def speed_up_audio(wav, speed_factor=2):\n",
    "    # Pobierz tablicę numpy z tensora Tensorflow\n",
    "    wav_np = wav.numpy()\n",
    "    \n",
    "    # Zastosuj przyspieszenie do danych audio\n",
    "    stretched_wav = librosa.effects.time_stretch(wav_np, rate=speed_factor)\n",
    "    \n",
    "    return stretched_wav"
   ],
   "metadata": {
    "collapsed": false,
    "ExecuteTime": {
     "end_time": "2024-05-06T08:29:58.823439600Z",
     "start_time": "2024-05-06T08:29:58.626415400Z"
    }
   },
   "id": "67cf914574ec5490",
   "execution_count": 136,
   "outputs": []
  },
  {
   "cell_type": "code",
   "source": [
    "# speed_a = speed_up_audio(inc_a)\n",
    "# speed_a"
   ],
   "metadata": {
    "collapsed": false,
    "ExecuteTime": {
     "end_time": "2024-05-06T08:29:58.855354100Z",
     "start_time": "2024-05-06T08:29:58.642373200Z"
    }
   },
   "id": "476590ff59587d97",
   "execution_count": 137,
   "outputs": []
  },
  {
   "cell_type": "code",
   "source": [
    "# plt.plot(speed_a)"
   ],
   "metadata": {
    "collapsed": false,
    "ExecuteTime": {
     "end_time": "2024-05-06T08:29:58.880112Z",
     "start_time": "2024-05-06T08:29:58.659327700Z"
    }
   },
   "id": "80f0ea78896533bc",
   "execution_count": 138,
   "outputs": []
  },
  {
   "cell_type": "code",
   "source": [
    "def slow_down_audio(wav, speed_factor=0.5):\n",
    "    # Konwertujemy tensor na tablicę numpy\n",
    "    wav_np = wav.numpy()\n",
    "    \n",
    "    # Przeprowadzamy zwolnienie tempa za pomocą librosa\n",
    "    slowed_wav_np = librosa.effects.time_stretch(wav_np, rate=speed_factor)\n",
    "    \n",
    "    # Konwertujemy wynikową tablicę numpy z powrotem na tensor TensorFlow\n",
    "    return tf.convert_to_tensor(slowed_wav_np, dtype=tf.float32)\n"
   ],
   "metadata": {
    "collapsed": false,
    "ExecuteTime": {
     "end_time": "2024-05-06T08:29:58.901083800Z",
     "start_time": "2024-05-06T08:29:58.675285300Z"
    }
   },
   "id": "375285678cc3b54b",
   "execution_count": 139,
   "outputs": []
  },
  {
   "cell_type": "code",
   "source": [
    "# slow_a = slow_down_audio(wav)"
   ],
   "metadata": {
    "collapsed": false,
    "ExecuteTime": {
     "end_time": "2024-05-06T08:29:58.914021100Z",
     "start_time": "2024-05-06T08:29:58.689785900Z"
    }
   },
   "id": "d7e951cc87858dfa",
   "execution_count": 140,
   "outputs": []
  },
  {
   "cell_type": "code",
   "source": [
    "# plt.plot(slow_a)"
   ],
   "metadata": {
    "collapsed": false,
    "ExecuteTime": {
     "end_time": "2024-05-06T08:29:58.935963500Z",
     "start_time": "2024-05-06T08:29:58.705743600Z"
    }
   },
   "id": "5d8e0e5b4d67e10d",
   "execution_count": 141,
   "outputs": []
  },
  {
   "cell_type": "code",
   "source": [],
   "metadata": {
    "collapsed": false,
    "ExecuteTime": {
     "end_time": "2024-05-06T08:29:58.952426700Z",
     "start_time": "2024-05-06T08:29:58.721700100Z"
    }
   },
   "id": "3a04ac8276532875",
   "execution_count": 141,
   "outputs": []
  },
  {
   "cell_type": "code",
   "source": [
    "\n",
    "audio_processing_functions = [increase_amplitude, add_noise, time_masking, change_pitch]\n",
    "def process_random_samples(dataset, num_samples_to_process):\n",
    "    processed_samples = []\n",
    "    for _ in range(num_samples_to_process):\n",
    "        shuffled_dataset = dataset.shuffle(buffer_size=1000)\n",
    "        random_sample =  next(iter(shuffled_dataset.take(1)))\n",
    "\n",
    "        # Dobycie tensora z datasetu\n",
    "  # Tutaj uzyskujemy tensor danych audio\n",
    "\n",
    "        processing_function = random.choice(audio_processing_functions)\n",
    "        processed_sample = processing_function(random_sample)\n",
    "\n",
    "        processed_samples.append(processed_sample)\n",
    "\n",
    "    return processed_samples"
   ],
   "metadata": {
    "collapsed": false,
    "ExecuteTime": {
     "end_time": "2024-05-06T08:29:58.961402700Z",
     "start_time": "2024-05-06T08:29:58.738654600Z"
    }
   },
   "id": "ac294b85a18c5c3d",
   "execution_count": 142,
   "outputs": []
  },
  {
   "cell_type": "code",
   "source": [],
   "metadata": {
    "collapsed": false,
    "ExecuteTime": {
     "end_time": "2024-05-06T08:29:58.993318400Z",
     "start_time": "2024-05-06T08:29:58.753614500Z"
    }
   },
   "id": "45987102e31ee2e2",
   "execution_count": 142,
   "outputs": []
  },
  {
   "cell_type": "code",
   "source": [
    "# Wczytaj, przetwórz i zapisz przetworzone pliki audio z pl_dataset_train\n",
    "# pl_dataset_train_processed = pl_dataset_train.map(lambda filename: load_wav_16k_mono_and_resample(filename))\n",
    "# pl_dataset_val_processed = pl_dataset_val.map(lambda filename:load_wav_16k_mono_and_resample(filename))\n",
    "# pl_dataset_test_processed = pl_dataset_test.map(lambda filename: load_wav_16k_mono_and_resample(filename))\n",
    "# \n",
    "# pl_dataset_train_processed.as_numpy_iterator().next().shape[0]"
   ],
   "metadata": {
    "collapsed": false,
    "ExecuteTime": {
     "end_time": "2024-05-06T08:29:58.998303700Z",
     "start_time": "2024-05-06T08:29:58.768575Z"
    }
   },
   "id": "22ccfc0099041c9e",
   "execution_count": 143,
   "outputs": []
  },
  {
   "cell_type": "code",
   "source": [
    "processed_samples_train = process_random_samples(train_align_dataset, TRAIN_SIZE - len(train_align_dataset))\n",
    "processed_samples_val = process_random_samples(val_align_dataset, (VAL_SIZE - len(val_align_dataset)))\n",
    "processed_samples_test = process_random_samples(test_align_dataset, (TEST_SIZE - len(test_align_dataset)))\n",
    "# processed_samples_test"
   ],
   "metadata": {
    "collapsed": false,
    "ExecuteTime": {
     "end_time": "2024-05-06T08:30:00.779176300Z",
     "start_time": "2024-05-06T08:29:58.784532100Z"
    }
   },
   "id": "3798bc6bccff9b18",
   "execution_count": 144,
   "outputs": []
  },
  {
   "cell_type": "code",
   "source": [],
   "metadata": {
    "collapsed": false,
    "ExecuteTime": {
     "end_time": "2024-05-06T08:30:00.799123Z",
     "start_time": "2024-05-06T08:30:00.779176300Z"
    }
   },
   "id": "551560397a726105",
   "execution_count": 144,
   "outputs": []
  },
  {
   "cell_type": "code",
   "source": [
    "align_processed_train = [align_probes(tensor, sample_rate) for tensor in processed_samples_train]\n",
    "align_processed_val = [align_probes(tensor, sample_rate) for tensor in processed_samples_val]\n",
    "align_processed_test = [align_probes(tensor,sample_rate) for tensor in processed_samples_test]\n",
    "align_processed_train"
   ],
   "metadata": {
    "collapsed": false,
    "ExecuteTime": {
     "end_time": "2024-05-06T08:30:00.848939100Z",
     "start_time": "2024-05-06T08:30:00.796131Z"
    }
   },
   "id": "297274267826dace",
   "execution_count": 145,
   "outputs": []
  },
  {
   "cell_type": "code",
   "source": [
    "processed_samples_train_dataset = tf.data.Dataset.from_tensor_slices(align_processed_train)\n",
    "processed_samples_val_dataset = tf.data.Dataset.from_tensor_slices(align_processed_val)\n",
    "processed_samples_test_dataset = tf.data.Dataset.from_tensor_slices(align_processed_test)"
   ],
   "metadata": {
    "collapsed": false,
    "ExecuteTime": {
     "end_time": "2024-05-06T08:30:00.872874100Z",
     "start_time": "2024-05-06T08:30:00.811091100Z"
    }
   },
   "id": "a789f7eef861cb4f",
   "execution_count": 146,
   "outputs": []
  },
  {
   "cell_type": "code",
   "source": [
    "processed_samples_test_dataset.as_numpy_iterator()"
   ],
   "metadata": {
    "collapsed": false,
    "ExecuteTime": {
     "end_time": "2024-05-06T08:30:00.926240400Z",
     "start_time": "2024-05-06T08:30:00.828484400Z"
    }
   },
   "id": "78495d0f1138c0f",
   "execution_count": 147,
   "outputs": []
  },
  {
   "cell_type": "code",
   "source": [
    "# align_pl_dataset_train_with_processed_samples = pl_dataset_train_processed.map(lambda audio: align_probes(audio, sample_rate))\n",
    "# align_pl_dataset_val_with_processed_samples = pl_dataset_val_processed.map(lambda audio: align_probes(audio, sample_rate))\n",
    "# align_pl_dataset_test_with_processed_samples = pl_dataset_test_processed.map(lambda audio: align_probes(audio, sample_rate))\n",
    "train_dataset_con = train_align_dataset.concatenate(processed_samples_train_dataset)\n",
    "val_dataset_con = val_align_dataset.concatenate(processed_samples_val_dataset)\n",
    "test_dataset_con = test_align_dataset.concatenate(processed_samples_test_dataset)\n"
   ],
   "metadata": {
    "collapsed": false,
    "ExecuteTime": {
     "end_time": "2024-05-06T08:30:00.954271900Z",
     "start_time": "2024-05-06T08:30:00.846943900Z"
    }
   },
   "id": "abb91118a9271c66",
   "execution_count": 148,
   "outputs": []
  },
  {
   "cell_type": "code",
   "source": [
    "align_pl_dataset_train_with_processed_samples_norm = train_dataset_con.map(lambda audio: normalize_audio(audio))\n",
    "align_pl_dataset_val_with_processed_samples_norm = val_dataset_con.map(lambda audio: normalize_audio(audio))\n",
    "align_pl_dataset_test_with_processed_samples_norm = test_dataset_con.map(lambda audio: normalize_audio(audio))"
   ],
   "metadata": {
    "collapsed": false,
    "ExecuteTime": {
     "end_time": "2024-05-06T08:30:01.050660100Z",
     "start_time": "2024-05-06T08:30:00.858911700Z"
    }
   },
   "id": "3da5eb659b8031a4",
   "execution_count": 149,
   "outputs": []
  },
  {
   "cell_type": "code",
   "source": [
    "def create_spectrogram(wav):\n",
    "    spectrogram = tf.signal.stft(wav, frame_length=320, frame_step=32)\n",
    "    spectrogram = tf.abs(spectrogram)\n",
    "    spectrogram = tf.expand_dims(spectrogram, axis=2)\n",
    "    return spectrogram"
   ],
   "metadata": {
    "collapsed": false,
    "ExecuteTime": {
     "end_time": "2024-05-06T08:30:01.069995600Z",
     "start_time": "2024-05-06T08:30:01.047668100Z"
    }
   },
   "id": "e2de33c855dae8d2",
   "execution_count": 150,
   "outputs": []
  },
  {
   "cell_type": "code",
   "source": [
    "spectrogram = create_spectrogram(wav_example)\n",
    "\n",
    "print(spectrogram.shape)\n",
    "spectrogram = tf.squeeze(spectrogram, axis=-1)\n",
    "print(spectrogram.shape)\n",
    "# spectrogram_in_db = 20 * tf.math.log(spectrogram + 1e-10) / tf.math.log(10.0)\n",
    "plt.figure(figsize=(10, 4))\n",
    "plt.imshow(tf.transpose(spectrogram), aspect='auto', origin='lower', cmap='viridis', extent=[0, 10, 0, sample_rate / 2])\n",
    "plt.colorbar(label='Magnitude')\n",
    "plt.xlabel('Time [s]')\n",
    "plt.ylabel('Frequency [Hz]')\n",
    "plt.title('Spectrogram')\n",
    "plt.show()\n",
    "\n",
    "# (2499, 257, 1) 2499 - liczba ramek czasowych, 257 - punkty częstotliwościowe dla danej ramki (każdej) + 1 na f = 0, 1 - jednokanalość danych"
   ],
   "metadata": {
    "collapsed": false,
    "ExecuteTime": {
     "end_time": "2024-05-06T08:30:01.365833600Z",
     "start_time": "2024-05-06T08:30:01.063014400Z"
    }
   },
   "id": "92e3d39430f8ea23",
   "execution_count": 151,
   "outputs": []
  },
  {
   "cell_type": "code",
   "source": [],
   "metadata": {
    "collapsed": false,
    "ExecuteTime": {
     "end_time": "2024-05-06T08:30:01.404937300Z",
     "start_time": "2024-05-06T08:30:01.358091800Z"
    }
   },
   "id": "9f24f866ac8858c",
   "execution_count": 151,
   "outputs": []
  },
  {
   "cell_type": "code",
   "source": [
    "# spectrogram = create_spectrogram(pitch_a)\n",
    "# print(spectrogram.shape)\n",
    "# \n",
    "# spectrogram = tf.squeeze(spectrogram, axis=-1)\n",
    "# print(spectrogram.shape)\n",
    "# plt.figure(figsize=(10, 4))\n",
    "# plt.imshow(tf.transpose(spectrogram), aspect='auto', origin='lower', cmap='viridis', extent=[0, 10, 0, sample_rate / 2])\n",
    "# plt.colorbar(label='Magnitude')\n",
    "# plt.xlabel('Time [s]')\n",
    "# plt.ylabel('Frequency [Hz]')\n",
    "# plt.title('Spectrogram')\n",
    "# plt.show()"
   ],
   "metadata": {
    "collapsed": false,
    "ExecuteTime": {
     "end_time": "2024-05-06T08:30:01.494237300Z",
     "start_time": "2024-05-06T08:30:01.373813300Z"
    }
   },
   "id": "82093256eee22ac0",
   "execution_count": 152,
   "outputs": []
  },
  {
   "cell_type": "code",
   "source": [
    "spectrogram_pl_dataset_train = align_pl_dataset_train_with_processed_samples_norm.map(lambda audio: create_spectrogram(audio))\n",
    "spectrogram_pl_dataset_val = align_pl_dataset_val_with_processed_samples_norm.map(lambda audio: create_spectrogram(audio))\n",
    "spectrogram_pl_dataset_test = align_pl_dataset_test_with_processed_samples_norm.map(lambda audio: create_spectrogram(audio))"
   ],
   "metadata": {
    "collapsed": false,
    "ExecuteTime": {
     "end_time": "2024-05-06T08:30:01.621914700Z",
     "start_time": "2024-05-06T08:30:01.388822600Z"
    }
   },
   "id": "994ed2ed4ea1fe63",
   "execution_count": 153,
   "outputs": []
  },
  {
   "cell_type": "code",
   "source": [
    "spectrogram_pl_dataset_train"
   ],
   "metadata": {
    "collapsed": false,
    "ExecuteTime": {
     "end_time": "2024-05-06T08:30:01.646681200Z",
     "start_time": "2024-05-06T08:30:01.624906300Z"
    }
   },
   "id": "91ece8457ac62112",
   "execution_count": 154,
   "outputs": []
  },
  {
   "cell_type": "code",
   "source": [
    "spectrogram_pl_dataset_val"
   ],
   "metadata": {
    "collapsed": false,
    "ExecuteTime": {
     "end_time": "2024-05-06T08:30:01.724037600Z",
     "start_time": "2024-05-06T08:30:01.639944600Z"
    }
   },
   "id": "d1e27210b5266e61",
   "execution_count": 155,
   "outputs": []
  },
  {
   "cell_type": "code",
   "source": [
    "spectrogram_pl_dataset_test"
   ],
   "metadata": {
    "collapsed": false,
    "ExecuteTime": {
     "end_time": "2024-05-06T08:30:01.751447600Z",
     "start_time": "2024-05-06T08:30:01.656968200Z"
    }
   },
   "id": "26b97f35b8ad06f9",
   "execution_count": 156,
   "outputs": []
  },
  {
   "cell_type": "code",
   "source": [
    "spectrogram_pl_dataset_test.as_numpy_iterator().next().shape"
   ],
   "metadata": {
    "collapsed": false,
    "ExecuteTime": {
     "end_time": "2024-05-06T08:30:01.927680500Z",
     "start_time": "2024-05-06T08:30:01.672926100Z"
    }
   },
   "id": "a896f7d090b76e59",
   "execution_count": 157,
   "outputs": []
  },
  {
   "cell_type": "code",
   "source": [
    "labeled_train_dataset = tf.data.Dataset.zip((spectrogram_pl_dataset_train, tf.data.Dataset.from_tensor_slices(tf.ones(len(spectrogram_pl_dataset_train)))))\n",
    "labeled_val_dataset = tf.data.Dataset.zip((spectrogram_pl_dataset_val, tf.data.Dataset.from_tensor_slices(tf.ones(len(spectrogram_pl_dataset_val)))))\n",
    "labeled_test_dataset = tf.data.Dataset.zip((spectrogram_pl_dataset_test, tf.data.Dataset.from_tensor_slices(tf.ones(len(spectrogram_pl_dataset_test)))))"
   ],
   "metadata": {
    "collapsed": false,
    "ExecuteTime": {
     "end_time": "2024-05-06T08:30:01.980539200Z",
     "start_time": "2024-05-06T08:30:01.919702600Z"
    }
   },
   "id": "6d46c6b640e6deaa",
   "execution_count": 158,
   "outputs": []
  },
  {
   "cell_type": "code",
   "source": [
    "labeled_train_dataset.as_numpy_iterator().next()"
   ],
   "metadata": {
    "collapsed": false,
    "ExecuteTime": {
     "end_time": "2024-05-06T08:30:02.132305700Z",
     "start_time": "2024-05-06T08:30:01.950619700Z"
    }
   },
   "id": "5b930513b2d2ebfb",
   "execution_count": 159,
   "outputs": []
  },
  {
   "cell_type": "code",
   "source": [
    "labeled_val_dataset.as_numpy_iterator().next()"
   ],
   "metadata": {
    "collapsed": false,
    "ExecuteTime": {
     "end_time": "2024-05-06T08:30:02.253443600Z",
     "start_time": "2024-05-06T08:30:02.123329Z"
    }
   },
   "id": "1fd73f0fbab8bea5",
   "execution_count": 160,
   "outputs": []
  },
  {
   "cell_type": "code",
   "source": [
    "labeled_test_dataset.as_numpy_iterator().next()"
   ],
   "metadata": {
    "collapsed": false,
    "ExecuteTime": {
     "end_time": "2024-05-06T08:30:02.396407200Z",
     "start_time": "2024-05-06T08:30:02.250451300Z"
    }
   },
   "id": "ddbc512a5fc9f74f",
   "execution_count": 161,
   "outputs": []
  },
  {
   "cell_type": "code",
   "source": [],
   "metadata": {
    "collapsed": false,
    "ExecuteTime": {
     "end_time": "2024-05-06T08:30:02.437804800Z",
     "start_time": "2024-05-06T08:30:02.388914200Z"
    }
   },
   "id": "568c51f7709b2f9b",
   "execution_count": 161,
   "outputs": []
  }
 ],
 "metadata": {
  "kernelspec": {
   "display_name": "Python 3",
   "language": "python",
   "name": "python3"
  },
  "language_info": {
   "codemirror_mode": {
    "name": "ipython",
    "version": 2
   },
   "file_extension": ".py",
   "mimetype": "text/x-python",
   "name": "python",
   "nbconvert_exporter": "python",
   "pygments_lexer": "ipython2",
   "version": "2.7.6"
  }
 },
 "nbformat": 4,
 "nbformat_minor": 5
}
